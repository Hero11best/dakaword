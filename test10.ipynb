{
 "cells": [
  {
   "cell_type": "markdown",
   "metadata": {},
   "source": [
    "开始学习时间序列分析"
   ]
  },
  {
   "cell_type": "markdown",
   "metadata": {},
   "source": [
    "1.datetime模块"
   ]
  },
  {
   "cell_type": "code",
   "execution_count": 2,
   "metadata": {},
   "outputs": [
    {
     "data": {
      "text/plain": [
       "datetime.datetime(2019, 7, 17, 13, 12, 21, 128105)"
      ]
     },
     "execution_count": 2,
     "metadata": {},
     "output_type": "execute_result"
    }
   ],
   "source": [
    "from datetime import datetime\n",
    "now = datetime.now()\n",
    "now"
   ]
  },
  {
   "cell_type": "code",
   "execution_count": 5,
   "metadata": {},
   "outputs": [
    {
     "data": {
      "text/plain": [
       "[2019, 7, 17]"
      ]
     },
     "execution_count": 5,
     "metadata": {},
     "output_type": "execute_result"
    }
   ],
   "source": [
    "[now.year,now.month,now.day]"
   ]
  },
  {
   "cell_type": "code",
   "execution_count": 6,
   "metadata": {},
   "outputs": [
    {
     "data": {
      "text/plain": [
       "datetime.datetime(2019, 7, 7, 13, 12, 21, 128105)"
      ]
     },
     "execution_count": 6,
     "metadata": {},
     "output_type": "execute_result"
    }
   ],
   "source": [
    "from datetime import timedelta\n",
    "timet = now - timedelta(10)   #默认是天为单位\n",
    "timet"
   ]
  },
  {
   "cell_type": "markdown",
   "metadata": {},
   "source": [
    "2.时间和字符串转换"
   ]
  },
  {
   "cell_type": "code",
   "execution_count": 7,
   "metadata": {},
   "outputs": [
    {
     "data": {
      "text/plain": [
       "'2019-01-01 00:00:00'"
      ]
     },
     "execution_count": 7,
     "metadata": {},
     "output_type": "execute_result"
    }
   ],
   "source": [
    "stamp = datetime(2019,1,1)\n",
    "str(stamp)"
   ]
  },
  {
   "cell_type": "code",
   "execution_count": 12,
   "metadata": {},
   "outputs": [
    {
     "data": {
      "text/plain": [
       "'2019-01-01'"
      ]
     },
     "execution_count": 12,
     "metadata": {},
     "output_type": "execute_result"
    }
   ],
   "source": [
    "stamp.strftime('%F')"
   ]
  },
  {
   "cell_type": "markdown",
   "metadata": {},
   "source": [
    "3.子集构造，切片索引"
   ]
  },
  {
   "cell_type": "code",
   "execution_count": 5,
   "metadata": {},
   "outputs": [
    {
     "data": {
      "text/plain": [
       "2019-07-17    0.517228\n",
       "2019-07-18   -0.169367\n",
       "2019-07-19    0.738851\n",
       "2019-07-20   -1.043335\n",
       "2019-07-21   -0.146443\n",
       "2019-07-22   -0.661780\n",
       "2019-07-23    2.038766\n",
       "2019-07-24   -0.435444\n",
       "2019-07-25    1.005914\n",
       "2019-07-26   -2.125206\n",
       "2019-07-27    0.261365\n",
       "2019-07-28    0.566962\n",
       "2019-07-29   -0.149045\n",
       "2019-07-30    0.681081\n",
       "2019-07-31   -0.115862\n",
       "2019-08-01    0.084791\n",
       "2019-08-02    0.348366\n",
       "2019-08-03   -0.178789\n",
       "2019-08-04    0.079962\n",
       "2019-08-05    1.747302\n",
       "2019-08-06    1.765156\n",
       "2019-08-07    0.724134\n",
       "2019-08-08   -0.854503\n",
       "2019-08-09    0.676255\n",
       "2019-08-10   -0.114080\n",
       "2019-08-11   -1.726786\n",
       "2019-08-12    1.919995\n",
       "2019-08-13   -0.286358\n",
       "2019-08-14   -1.546512\n",
       "2019-08-15    0.300845\n",
       "                ...   \n",
       "2022-03-13   -2.127731\n",
       "2022-03-14   -0.031929\n",
       "2022-03-15    0.311186\n",
       "2022-03-16   -1.070624\n",
       "2022-03-17    1.292688\n",
       "2022-03-18    0.301954\n",
       "2022-03-19    0.556250\n",
       "2022-03-20   -1.166374\n",
       "2022-03-21    2.111527\n",
       "2022-03-22   -1.472433\n",
       "2022-03-23    0.901883\n",
       "2022-03-24   -2.157147\n",
       "2022-03-25   -0.701013\n",
       "2022-03-26   -1.099936\n",
       "2022-03-27   -0.272268\n",
       "2022-03-28    1.690246\n",
       "2022-03-29    0.116685\n",
       "2022-03-30   -0.274363\n",
       "2022-03-31   -0.600777\n",
       "2022-04-01   -0.092042\n",
       "2022-04-02   -0.103972\n",
       "2022-04-03    0.562819\n",
       "2022-04-04    0.467238\n",
       "2022-04-05   -1.459733\n",
       "2022-04-06    1.301610\n",
       "2022-04-07    1.537283\n",
       "2022-04-08   -0.414283\n",
       "2022-04-09   -1.173929\n",
       "2022-04-10   -0.471449\n",
       "2022-04-11    0.549397\n",
       "Freq: D, Length: 1000, dtype: float64"
      ]
     },
     "execution_count": 5,
     "metadata": {},
     "output_type": "execute_result"
    }
   ],
   "source": [
    "import numpy as np\n",
    "import pandas as pd\n",
    "longer_ts = pd.Series(np.random.randn(1000),index=pd.date_range('2019/7/17',periods=1000))\n",
    "longer_ts"
   ]
  },
  {
   "cell_type": "code",
   "execution_count": 4,
   "metadata": {},
   "outputs": [
    {
     "data": {
      "text/plain": [
       "0.7117215802975986"
      ]
     },
     "execution_count": 4,
     "metadata": {},
     "output_type": "execute_result"
    }
   ],
   "source": [
    "longer_ts['2019-7-22']   #这里是视图，修改会改变原始数据"
   ]
  },
  {
   "cell_type": "markdown",
   "metadata": {},
   "source": [
    "4.生成时间序列pd.date_range(freq='频率参数')"
   ]
  },
  {
   "cell_type": "markdown",
   "metadata": {},
   "source": [
    "5.利用DataFarme.shift(偏移量，freq='频率参数')时间序列数据进行偏移"
   ]
  },
  {
   "cell_type": "markdown",
   "metadata": {},
   "source": [
    "6.重采样以及频率转换"
   ]
  },
  {
   "cell_type": "code",
   "execution_count": 7,
   "metadata": {},
   "outputs": [
    {
     "data": {
      "text/plain": [
       "2000-01-01   -0.252517\n",
       "2000-01-02   -1.196455\n",
       "2000-01-03   -0.062933\n",
       "2000-01-04    2.456321\n",
       "2000-01-05    0.721342\n",
       "2000-01-06    0.456028\n",
       "2000-01-07   -0.725325\n",
       "2000-01-08   -1.477181\n",
       "2000-01-09   -3.013609\n",
       "2000-01-10   -0.679049\n",
       "2000-01-11    0.003572\n",
       "2000-01-12   -0.353901\n",
       "2000-01-13   -0.055267\n",
       "2000-01-14   -2.078883\n",
       "2000-01-15   -0.648515\n",
       "2000-01-16    0.692964\n",
       "2000-01-17    0.742192\n",
       "2000-01-18    0.464645\n",
       "2000-01-19    0.794793\n",
       "2000-01-20   -0.987256\n",
       "2000-01-21   -0.401330\n",
       "2000-01-22   -0.221729\n",
       "2000-01-23   -0.566248\n",
       "2000-01-24   -0.723641\n",
       "2000-01-25   -1.068883\n",
       "2000-01-26   -1.659035\n",
       "2000-01-27   -0.233952\n",
       "2000-01-28    0.222986\n",
       "2000-01-29   -1.737283\n",
       "2000-01-30    1.139306\n",
       "                ...   \n",
       "2000-03-11    0.787874\n",
       "2000-03-12    0.821238\n",
       "2000-03-13   -0.627816\n",
       "2000-03-14   -0.281033\n",
       "2000-03-15   -0.193071\n",
       "2000-03-16   -1.220225\n",
       "2000-03-17   -1.104858\n",
       "2000-03-18    0.493552\n",
       "2000-03-19   -0.202902\n",
       "2000-03-20   -1.391768\n",
       "2000-03-21    0.398869\n",
       "2000-03-22   -0.171770\n",
       "2000-03-23    0.609053\n",
       "2000-03-24    0.148195\n",
       "2000-03-25   -0.133895\n",
       "2000-03-26    0.112540\n",
       "2000-03-27   -0.340921\n",
       "2000-03-28   -0.189705\n",
       "2000-03-29    0.513847\n",
       "2000-03-30    0.016949\n",
       "2000-03-31    1.035628\n",
       "2000-04-01    0.970830\n",
       "2000-04-02    0.200265\n",
       "2000-04-03   -0.925483\n",
       "2000-04-04   -2.031050\n",
       "2000-04-05   -0.017824\n",
       "2000-04-06    1.316506\n",
       "2000-04-07   -0.208786\n",
       "2000-04-08   -0.455777\n",
       "2000-04-09    0.075983\n",
       "Freq: D, Length: 100, dtype: float64"
      ]
     },
     "execution_count": 7,
     "metadata": {},
     "output_type": "execute_result"
    }
   ],
   "source": [
    "rng = pd.date_range('2000-01-01', periods=100, freq='D')\n",
    "ts = pd.Series(np.random.randn(len(rng)), index=rng)\n",
    "ts"
   ]
  },
  {
   "cell_type": "code",
   "execution_count": 9,
   "metadata": {},
   "outputs": [
    {
     "data": {
      "text/plain": [
       "2000-01-31   -0.296101\n",
       "2000-02-29    0.120318\n",
       "2000-03-31   -0.275749\n",
       "2000-04-30   -0.119482\n",
       "Freq: M, dtype: float64"
      ]
     },
     "execution_count": 9,
     "metadata": {},
     "output_type": "execute_result"
    }
   ],
   "source": [
    "ts.resample('M').mean()"
   ]
  },
  {
   "cell_type": "code",
   "execution_count": 10,
   "metadata": {},
   "outputs": [
    {
     "name": "stderr",
     "output_type": "stream",
     "text": [
      "D:\\Anaconda\\lib\\site-packages\\ipykernel_launcher.py:1: FutureWarning: how in .resample() is deprecated\n",
      "the new syntax is .resample(...).ohlc()\n",
      "  \"\"\"Entry point for launching an IPython kernel.\n"
     ]
    },
    {
     "data": {
      "text/html": [
       "<div>\n",
       "<style scoped>\n",
       "    .dataframe tbody tr th:only-of-type {\n",
       "        vertical-align: middle;\n",
       "    }\n",
       "\n",
       "    .dataframe tbody tr th {\n",
       "        vertical-align: top;\n",
       "    }\n",
       "\n",
       "    .dataframe thead th {\n",
       "        text-align: right;\n",
       "    }\n",
       "</style>\n",
       "<table border=\"1\" class=\"dataframe\">\n",
       "  <thead>\n",
       "    <tr style=\"text-align: right;\">\n",
       "      <th></th>\n",
       "      <th>open</th>\n",
       "      <th>high</th>\n",
       "      <th>low</th>\n",
       "      <th>close</th>\n",
       "    </tr>\n",
       "  </thead>\n",
       "  <tbody>\n",
       "    <tr>\n",
       "      <th>2000-01-31</th>\n",
       "      <td>-0.252517</td>\n",
       "      <td>2.456321</td>\n",
       "      <td>-3.013609</td>\n",
       "      <td>1.269716</td>\n",
       "    </tr>\n",
       "    <tr>\n",
       "      <th>2000-02-29</th>\n",
       "      <td>-0.632404</td>\n",
       "      <td>2.089265</td>\n",
       "      <td>-2.499560</td>\n",
       "      <td>1.489028</td>\n",
       "    </tr>\n",
       "    <tr>\n",
       "      <th>2000-03-31</th>\n",
       "      <td>0.180412</td>\n",
       "      <td>1.035628</td>\n",
       "      <td>-1.768402</td>\n",
       "      <td>1.035628</td>\n",
       "    </tr>\n",
       "    <tr>\n",
       "      <th>2000-04-30</th>\n",
       "      <td>0.970830</td>\n",
       "      <td>1.316506</td>\n",
       "      <td>-2.031050</td>\n",
       "      <td>0.075983</td>\n",
       "    </tr>\n",
       "  </tbody>\n",
       "</table>\n",
       "</div>"
      ],
      "text/plain": [
       "                open      high       low     close\n",
       "2000-01-31 -0.252517  2.456321 -3.013609  1.269716\n",
       "2000-02-29 -0.632404  2.089265 -2.499560  1.489028\n",
       "2000-03-31  0.180412  1.035628 -1.768402  1.035628\n",
       "2000-04-30  0.970830  1.316506 -2.031050  0.075983"
      ]
     },
     "execution_count": 10,
     "metadata": {},
     "output_type": "execute_result"
    }
   ],
   "source": [
    "ts.resample('M',how='ohlc')"
   ]
  },
  {
   "cell_type": "code",
   "execution_count": null,
   "metadata": {},
   "outputs": [],
   "source": []
  }
 ],
 "metadata": {
  "kernelspec": {
   "display_name": "Python 3",
   "language": "python",
   "name": "python3"
  },
  "language_info": {
   "codemirror_mode": {
    "name": "ipython",
    "version": 3
   },
   "file_extension": ".py",
   "mimetype": "text/x-python",
   "name": "python",
   "nbconvert_exporter": "python",
   "pygments_lexer": "ipython3",
   "version": "3.7.1"
  }
 },
 "nbformat": 4,
 "nbformat_minor": 2
}
